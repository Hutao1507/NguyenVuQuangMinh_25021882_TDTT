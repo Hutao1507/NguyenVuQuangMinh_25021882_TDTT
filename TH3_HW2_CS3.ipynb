{
 "cells": [
  {
   "cell_type": "code",
   "execution_count": null,
   "id": "157aff00",
   "metadata": {},
   "outputs": [],
   "source": [
    "a,b= map(float,input(\"nhập chiều dài và chiều rộng của hình chữ nhật:\").split())\n",
    "print(\"diện tích:\",a*b)\n",
    "print(\"chu vi:\",(a+b)*2)"
   ]
  },
  {
   "cell_type": "code",
   "execution_count": null,
   "id": "ff0b2beb",
   "metadata": {},
   "outputs": [],
   "source": [
    "a=float(input(\"nhập bán kính hình tròn:\"))\n",
    "print(\"diện tích:\",3.14*a*a)\n",
    "print(\"chu vi:\",2*3.14*a)"
   ]
  },
  {
   "cell_type": "code",
   "execution_count": null,
   "id": "fbfd3c72",
   "metadata": {},
   "outputs": [
    {
     "name": "stdout",
     "output_type": "stream",
     "text": [
      "Tam giác đều\n",
      "chu vi: 9.0\n",
      "diện tích: 3.375\n"
     ]
    }
   ],
   "source": [
    "def sqrt(a):\n",
    "    a=a**0.5\n",
    "    return float(a)\n",
    "a, b , c = map(float, input(\"Nhập 3 cạnh của tam giác:\").split())\n",
    "if a+b>c and a+c>b and b+c>a:\n",
    "    C=a+b+c\n",
    "    if a==b==c:\n",
    "        print(\"Tam giác đều\")\n",
    "        S=a*a*sqrt(3)/4\n",
    "    elif a==b or b==c or a==c:\n",
    "        print(\"Tam giác cân\")\n",
    "        if a==b:\n",
    "            h=sqrt(a*a-c*c/4)\n",
    "            S=c*h/2\n",
    "        elif a==c:\n",
    "            h=sqrt(a*a-b*b/4)\n",
    "            S=b*h/2\n",
    "        else:\n",
    "            h=sqrt(b*b-a*a/4)\n",
    "            S=a*h/2\n",
    "    elif sqrt(a*b)==c or sqrt(a*c)==b or sqrt(b*c)==a:\n",
    "        print(\"Tam giác vuông\")\n",
    "        if sqrt(a*b)==c:\n",
    "            S=a*b/2\n",
    "        if sqrt(a*c)==b:\n",
    "            S=a*c/2\n",
    "        if sqrt(c*b)==a:\n",
    "            S=c*b/2\n",
    "    else:\n",
    "        print(\"Tam giác thường\")\n",
    "        S=sqrt(C*(C-a)*(C-B)*(C-c))\n",
    "\n",
    "print(\"chu vi:\",C)\n",
    "print(\"diện tích:\",S)"
   ]
  },
  {
   "cell_type": "code",
   "execution_count": null,
   "id": "a5fbd3d2",
   "metadata": {},
   "outputs": [],
   "source": [
    "a, b=float(input(\"Nhập hệ số a và b của phương trình ax+b=0\"))\n",
    "print(\"Giá trị của x là:\",-b/a)"
   ]
  },
  {
   "cell_type": "code",
   "execution_count": null,
   "id": "78edd9a5",
   "metadata": {},
   "outputs": [
    {
     "name": "stdout",
     "output_type": "stream",
     "text": [
      "Phương trình có nghiệm x1= 2.0\n",
      "Phương trình có nghiệm x2= -6.0\n"
     ]
    }
   ],
   "source": [
    "def sqrt(a):\n",
    "    a=a**0.5\n",
    "    return float(a)\n",
    "a, b, c=map(float,input(\"nhập hệ số a,b,c:\").split())\n",
    "D=b**2-4*a*c\n",
    "if a>0:\n",
    "    if D<0:\n",
    "        print(\"Phương trình vô nghiệm\")\n",
    "    elif D==0:\n",
    "        print(\"Phương trình có nghiệm duy nhất x=\", (-b+sqrt(D)/(2*a)))\n",
    "    else:\n",
    "        print(\"Phương trình có nghiệm x1=\",(-b+sqrt(D)/(2*a)))\n",
    "        print(\"Phương trình có nghiệm x2=\",(-b-sqrt(D)/(2*a)))"
   ]
  },
  {
   "cell_type": "code",
   "execution_count": 36,
   "id": "77204811",
   "metadata": {},
   "outputs": [
    {
     "name": "stdout",
     "output_type": "stream",
     "text": [
      "số lớn nhất là: 4.0\n"
     ]
    }
   ],
   "source": [
    "a, b, c, d=map(float,input(\"nhập 4 số a,b,c,d:\").split())\n",
    "max=a\n",
    "if b > max:\n",
    "    max = b\n",
    "if c > max:\n",
    "    max = c\n",
    "if d > max:\n",
    "    max = d\n",
    "print(\"số lớn nhất là:\",max)\n"
   ]
  },
  {
   "cell_type": "code",
   "execution_count": 37,
   "id": "95b152bd",
   "metadata": {},
   "outputs": [
    {
     "name": "stdout",
     "output_type": "stream",
     "text": [
      "số nhỏ nhất là: 2.0\n"
     ]
    }
   ],
   "source": [
    "a, b, c, d=map(float,input(\"nhập 4 số a,b,c,d:\").split())\n",
    "min=a\n",
    "if b <min:\n",
    "    min = b\n",
    "if c < min:\n",
    "    min = c\n",
    "if d < min:\n",
    "    min = d\n",
    "print(\"số nhỏ nhất là:\",min)\n"
   ]
  },
  {
   "cell_type": "code",
   "execution_count": 40,
   "id": "a3f416c6",
   "metadata": {},
   "outputs": [
    {
     "name": "stdout",
     "output_type": "stream",
     "text": [
      "x= -1.0\n",
      "y= 2.0\n"
     ]
    }
   ],
   "source": [
    "a, b, m=map(float,input(\"nhập hệ số a,b,m:\").split())\n",
    "c, d, n=map(float,input(\"nhập hệ số c,d,n:\").split())\n",
    "d=a*d-c*b\n",
    "n=a*n-c*m\n",
    "if d != 0 and n==0:\n",
    "    y=0\n",
    "    x=m/a\n",
    "elif d==0 and n!=0:\n",
    "    print(\"Phương trình vô nghiệm\")\n",
    "else:\n",
    "    y=n/d\n",
    "    x=(m-y*b)/a\n",
    "print(\"x=\",x)\n",
    "print(\"y=\",y)"
   ]
  },
  {
   "cell_type": "code",
   "execution_count": 6,
   "id": "12be161e",
   "metadata": {},
   "outputs": [
    {
     "name": "stdout",
     "output_type": "stream",
     "text": [
      "Thời gian làm việc là: 1 giờ 56 phút 40 giây\n"
     ]
    }
   ],
   "source": [
    "s=int(input(\"Nhập số giây làm việc:\"))\n",
    "if s>=3600:\n",
    "    h=s//3600\n",
    "    s=s-3600*h\n",
    "    if s>=60:\n",
    "        p=s//60\n",
    "        s=s-60*p\n",
    "        if s>0:    \n",
    "            print(\"Thời gian làm việc là:\",h,\"giờ\", p,\"phút\" , s,\"giây\")\n",
    "        else:\n",
    "            print(\"Thời gian làm việc là:\",h,\"giờ\", p,\"phút\")\n",
    "    else:\n",
    "        print(\"Thời gian làm việc là:\",h,\"giờ\")\n",
    "else:\n",
    "    if s>=60:\n",
    "        p=s//60\n",
    "        s=s-60*p\n",
    "        if s>0:    \n",
    "            print(\"Thời gian làm việc là:\",p,\"phút\" , s,\"giây\")\n",
    "        else:\n",
    "            print(\"Thời gian làm việc là:\", p,\"phút\")\n",
    "    else:\n",
    "        print(\"Thời gian làm việc là:\", s,\"giây\")\n",
    "    "
   ]
  },
  {
   "cell_type": "code",
   "execution_count": null,
   "id": "f1904088",
   "metadata": {},
   "outputs": [],
   "source": [
    "Ix,Iy,R=map(float, input(\"Nhập toạ độ tâm và bán kính của đường tròn:\").split())\n",
    "a,b=map(float,input(\"Nhập toạ độ điểm A:\").split())\n",
    "if (a-Ix)**2+(b-Iy)**2<=R**2:\n",
    "    print(\"Điểm A thuộc đường tròn I\")\n",
    "else:\n",
    "    print(\"Điểm A không thuộc đường tròn I\")\n",
    "    \n",
    "s"
   ]
  },
  {
   "cell_type": "code",
   "execution_count": null,
   "id": "0e30b319",
   "metadata": {},
   "outputs": [],
   "source": [
    "x,y=map(float,input().split())\n",
    "print(\"x mũ y=\",x**y)"
   ]
  }
 ],
 "metadata": {
  "kernelspec": {
   "display_name": ".venv (3.13.7)",
   "language": "python",
   "name": "python3"
  },
  "language_info": {
   "codemirror_mode": {
    "name": "ipython",
    "version": 3
   },
   "file_extension": ".py",
   "mimetype": "text/x-python",
   "name": "python",
   "nbconvert_exporter": "python",
   "pygments_lexer": "ipython3",
   "version": "3.13.7"
  }
 },
 "nbformat": 4,
 "nbformat_minor": 5
}

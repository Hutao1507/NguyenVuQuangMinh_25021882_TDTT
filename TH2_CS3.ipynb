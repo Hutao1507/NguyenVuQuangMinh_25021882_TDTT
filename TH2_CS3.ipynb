{
 "cells": [
  {
   "cell_type": "code",
   "execution_count": null,
   "id": "20f900ae",
   "metadata": {},
   "outputs": [],
   "source": [
    "n=int(input(\"Nhập số nguyên n: \"))\n",
    "print(n*2)"
   ]
  },
  {
   "cell_type": "code",
   "execution_count": null,
   "id": "97ceddc7",
   "metadata": {},
   "outputs": [],
   "source": [
    "a=float(input(\"Nhập chiều rộng: \"))\n",
    "b=float(input(\"Nhập chiều dài: \"))\n",
    "if a>0 and b>0:\n",
    "    if a<b:\n",
    "        rong=a \n",
    "        dai=b\n",
    "    else:\n",
    "        rong=b\n",
    "        dai=a\n",
    "print(\"diện tích còn lại là:\", dai*rong-rong*rong*3,14)"
   ]
  },
  {
   "cell_type": "code",
   "execution_count": 5,
   "id": "d760b30b",
   "metadata": {},
   "outputs": [
    {
     "name": "stdout",
     "output_type": "stream",
     "text": [
      "D\n"
     ]
    }
   ],
   "source": [
    "ch = str(input(\"Nhập kí tự c: \"))\n",
    "if ch.isupper():\n",
    "    print(ch.lower())\n",
    "elif ch.islower():\n",
    "    print(ch.upper())\n",
    "else:\n",
    "    print(\"Ký tự không phải chữ cái\")"
   ]
  },
  {
   "cell_type": "code",
   "execution_count": null,
   "id": "c337173d",
   "metadata": {},
   "outputs": [],
   "source": [
    "ch = str(input(\"Nhập kí tự c: \"))\n",
    "if ch.isupper():\n",
    "    print(\"c là kí tự alphabet\")\n",
    "elif ch.islower():\n",
    "    print(\"c là kí tự alphabet\")\n",
    "else:\n",
    "    print(\"c không phải kí tự alphabet\")"
   ]
  },
  {
   "cell_type": "code",
   "execution_count": null,
   "id": "df03a1ea",
   "metadata": {},
   "outputs": [],
   "source": [
    "a=input(\"Nhập chữ in hoa:\")\n",
    "if a.isupper():\n",
    "    if len(a)=1:\n",
    "        if ord(a)=65:\n",
    "            print(\"không có chữ cái đứng trước A\")\n",
    "        elif ord(a)>65 and ord(a)<=90:\n",
    "            print(\"chữ cái đứng trước\",a,\"là:\",a.lower())\n",
    "    else:\n",
    "        print(\"chỉ nhâp một ký tự\")\n",
    "else:\n",
    "    print(\"hãy nhập chữ in hoa\")"
   ]
  },
  {
   "cell_type": "code",
   "execution_count": null,
   "id": "8018c8a2",
   "metadata": {},
   "outputs": [],
   "source": [
    "a, b , c = map(float, input(\"Nhập 3 cạnh của tam giác:\").split())\n",
    "if a+b>c and a+c>b and b+c>a:\n",
    "    p=(a+b+c)/2\n",
    "    print(\"Diện tích tam giác là:\",(p*(p-a)*(p-b)*(p-c))**0.5.round(1))\n",
    "else:\n",
    "    print(\"Khong phai 3 canh cua tam giac\")\n"
   ]
  },
  {
   "cell_type": "code",
   "execution_count": null,
   "id": "5f7794c4",
   "metadata": {},
   "outputs": [],
   "source": [
    "def ki_tu_thuong(a):\n",
    "    for i in a:\n",
    "        if i.isupper():\n",
    "            in_thuong=False\n",
    "            break\n",
    "        else:\n",
    "            in_thuong=True\n",
    "    return in_thuong\n",
    "\n",
    "\n",
    "lst=input(\"nhập dãy kí tự lớn hơn 20 kí tự:\")\n",
    "if len(lst)>20:\n",
    "    if ki_tu_thuong(lst)==True:\n",
    "        print(\"kí tự thứ 5 là:\",lst[4])\n",
    "        print(\"kí tự thứ 9 là:\",lst[8])\n",
    "    else:\n",
    "        print(\"dãy phải gồm kí tự thường\")\n",
    "else:\n",
    "    print(\"dãy phải lớn hơn 20 kí tự\")"
   ]
  },
  {
   "cell_type": "code",
   "execution_count": null,
   "id": "e577b9eb",
   "metadata": {},
   "outputs": [],
   "source": [
    "ten=input(\"nhập tên chủ hộ:\")\n",
    "truoc=float(input(\"chỉ số tháng trước:\"))\n",
    "sau=float(input(\"chỉ số tháng sau:\"))\n",
    "chi_so=sau-truoc\n",
    "tien=0\n",
    "if chi_so>=401:\n",
    "    tien+=3460*(chi_so-400)\n",
    "    chi_so=400\n",
    "if chi_so>=301:\n",
    "    tien+=3350*(chi_so-300)\n",
    "    chi_so=300\n",
    "if chi_so>=201:\n",
    "    tien+=2998*(chi_so-200)\n",
    "    chi_so=200\n",
    "if chi_so>=101:\n",
    "    tien+=2380*(chi_so-100)\n",
    "    chi_so=100\n",
    "if chi_so>=51:\n",
    "    tien+=2050*(chi_so-50)\n",
    "    chi_so=50\n",
    "if chi_so>=0:\n",
    "    tien+=1984*chi_so\n",
    "tien+=tien*0.08\n",
    "print(\"Họ tên chủ hộ:\",ten)\n",
    "print(\"Tiền phải trả là:\",round(tien),\"đồng\")"
   ]
  }
 ],
 "metadata": {
  "kernelspec": {
   "display_name": ".venv (3.13.7)",
   "language": "python",
   "name": "python3"
  },
  "language_info": {
   "codemirror_mode": {
    "name": "ipython",
    "version": 3
   },
   "file_extension": ".py",
   "mimetype": "text/x-python",
   "name": "python",
   "nbconvert_exporter": "python",
   "pygments_lexer": "ipython3",
   "version": "3.13.7"
  }
 },
 "nbformat": 4,
 "nbformat_minor": 5
}

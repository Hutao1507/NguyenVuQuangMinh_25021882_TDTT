{
 "cells": [
  {
   "cell_type": "code",
   "execution_count": 11,
   "id": "c78b917c",
   "metadata": {},
   "outputs": [
    {
     "name": "stdout",
     "output_type": "stream",
     "text": [
      "Hello World!\n"
     ]
    }
   ],
   "source": [
    "print(\"Hello World!\")\n"
   ]
  },
  {
   "cell_type": "code",
   "execution_count": 12,
   "id": "47381608",
   "metadata": {},
   "outputs": [
    {
     "name": "stdout",
     "output_type": "stream",
     "text": [
      "Xin chào  jj \n"
     ]
    }
   ],
   "source": [
    "ten= input(\"Nhập tên của bạn vào đây: \")\n",
    "print (\"Xin chào \", ten)"
   ]
  },
  {
   "cell_type": "code",
   "execution_count": 13,
   "id": "90cfe041",
   "metadata": {},
   "outputs": [
    {
     "name": "stdout",
     "output_type": "stream",
     "text": [
      "tổng: 3\n",
      "hiệu: -1\n",
      "tich 2\n",
      "phần nguyên: 0\n",
      "phần dư: 1\n",
      "thương: 0.5\n"
     ]
    }
   ],
   "source": [
    "a= int(input(\"Nhập số a: \"))\n",
    "b= int(input(\"Nhập số b: \"))\n",
    "if a%b ==0:\n",
    "    thuong = a/b\n",
    "else:\n",
    "    thuong = round(a/b,2)\n",
    "print (\"tổng:\",a+b)\n",
    "print (\"hiệu:\",a-b)\n",
    "print (\"tich\",a*b)\n",
    "print (\"phần nguyên:\", a//b)\n",
    "print (\"phần dư:\", a%b)\n",
    "print (\"thương:\",thuong)"
   ]
  },
  {
   "cell_type": "code",
   "execution_count": 14,
   "id": "177eb4b6",
   "metadata": {},
   "outputs": [
    {
     "name": "stdout",
     "output_type": "stream",
     "text": [
      "điểm trung bình là: 4.2\n"
     ]
    }
   ],
   "source": [
    "a1, b1, c1, a2,b2,a3= map(float, input(\"Nhập 6 số a1,b1,c1,a2,b2,c2: \").split())\n",
    "print(\"điểm trung bình là:\", round(((a1+b1+c1)+(a2+b2)*2+a3*3)/10,1))"
   ]
  },
  {
   "cell_type": "code",
   "execution_count": 15,
   "id": "20829454",
   "metadata": {},
   "outputs": [
    {
     "name": "stdout",
     "output_type": "stream",
     "text": [
      "a mũ b bằng: 1\n"
     ]
    }
   ],
   "source": [
    "a , b = map (int, input(\"Nhập 2 số a,b: \").split())\n",
    "print(\"a mũ b bằng:\", a**b)"
   ]
  },
  {
   "cell_type": "code",
   "execution_count": 17,
   "id": "fade927c",
   "metadata": {},
   "outputs": [
    {
     "name": "stdout",
     "output_type": "stream",
     "text": [
      "A\n",
      "97\n"
     ]
    }
   ],
   "source": [
    "a=input(\"Nhập vào một chữ cái:\")\n",
    "if a.isupper():\n",
    "    print(a.lower())\n",
    "elif a.islower():\n",
    "    print(a.upper())\n",
    "else:\n",
    "    print(\"Ký tự không phải chữ cái\")\n",
    "print(ord(a))"
   ]
  },
  {
   "cell_type": "code",
   "execution_count": null,
   "id": "5e4012bb",
   "metadata": {},
   "outputs": [
    {
     "name": "stdout",
     "output_type": "stream",
     "text": [
      "A =  512\n",
      "B =  512\n"
     ]
    }
   ],
   "source": [
    "print(\"A = \",((13**2)* 3) + 5 )\n",
    "print(\"B = \",13**2*3+5)"
   ]
  },
  {
   "cell_type": "code",
   "execution_count": 18,
   "id": "a90eea80",
   "metadata": {},
   "outputs": [
    {
     "name": "stdout",
     "output_type": "stream",
     "text": [
      "Nhiệt độ F là: 86.0\n"
     ]
    }
   ],
   "source": [
    "c= int(input(\"Nhập nhiệt độ celcius: \"))\n",
    "print(\"Nhiệt độ F là:\", round((c*9/5)+32,2))"
   ]
  },
  {
   "cell_type": "code",
   "execution_count": 21,
   "id": "3e130a5f",
   "metadata": {},
   "outputs": [
    {
     "name": "stdout",
     "output_type": "stream",
     "text": [
      "số tiền phải trả là: 21.48\n"
     ]
    }
   ],
   "source": [
    "x=float(input(\"Nhập giá chiếc đồng hồ:\"))\n",
    "print(\"số tiền phải trả là:\", round(x*0.1+x*0.3+x+10,2))"
   ]
  },
  {
   "cell_type": "code",
   "execution_count": null,
   "id": "a05f1676",
   "metadata": {},
   "outputs": [
    {
     "name": "stdout",
     "output_type": "stream",
     "text": [
      "Hi, helen , alice and bob\n"
     ]
    }
   ],
   "source": [
    "a=input(\"nhập 3 tên:\")\n",
    "b=a.split()\n",
    "print(\"Hi\", b[2],\",\",b[1],\"and\",b[0])"
   ]
  },
  {
   "cell_type": "code",
   "execution_count": 22,
   "id": "73f748d3",
   "metadata": {},
   "outputs": [
    {
     "name": "stdout",
     "output_type": "stream",
     "text": [
      "số giây là: 36120\n"
     ]
    }
   ],
   "source": [
    "a,b=map(int, input(\"nhập số giờ và phút:\").split())\n",
    "print(\"số giây là:\", (a*3600)+(b*60))"
   ]
  },
  {
   "cell_type": "code",
   "execution_count": 23,
   "id": "c467617e",
   "metadata": {},
   "outputs": [
    {
     "name": "stdout",
     "output_type": "stream",
     "text": [
      "số miếng dán cần là: 54\n"
     ]
    }
   ],
   "source": [
    "n=int(input(\"nhập số cạnh của rubik:\"))\n",
    "print(\"số miếng dán cần là:\", 6*n*n)"
   ]
  },
  {
   "cell_type": "code",
   "execution_count": 24,
   "id": "2dc9c493",
   "metadata": {},
   "outputs": [
    {
     "name": "stdout",
     "output_type": "stream",
     "text": [
      "hàng đơn vị của phép nhân a nhân b là: 1\n"
     ]
    }
   ],
   "source": [
    "a,b= map(int, input(\"Nhập 2 số a,b: \").split())\n",
    "if a>0 and b>0:\n",
    "    print(\"hàng đơn vị của phép nhân a nhân b là:\", (a*b)%10)\n",
    "else:\n",
    "    print(\"a và b phải là số dương\")\n",
    "    "
   ]
  },
  {
   "cell_type": "code",
   "execution_count": null,
   "id": "9d9d61d7",
   "metadata": {},
   "outputs": [
    {
     "name": "stdout",
     "output_type": "stream",
     "text": [
      "Sau khi hoán đổi: a = 6 , b = 4\n"
     ]
    }
   ],
   "source": [
    "a, b = map(int, input(\"Nhập 2 số a và b: \").split())\n",
    "a, b = b, a\n",
    "print(\"Sau khi hoán đổi: a =\", a, \", b =\", b)"
   ]
  },
  {
   "cell_type": "code",
   "execution_count": null,
   "id": "6304ea86",
   "metadata": {},
   "outputs": [
    {
     "name": "stdout",
     "output_type": "stream",
     "text": [
      "số sao thứ 2 là: 7\n"
     ]
    }
   ],
   "source": [
    "n= int(input(\"Nhập số nguyên dương n: \"))\n",
    "print(\"số sao thứ\", n,\"là:\", 3*(n**2)-3*n+1)"
   ]
  },
  {
   "cell_type": "code",
   "execution_count": null,
   "id": "4dad25a4",
   "metadata": {},
   "outputs": [
    {
     "name": "stdout",
     "output_type": "stream",
     "text": [
      "Spring\n",
      "Summmer\n",
      "Autumn\n",
      "Winter\n"
     ]
    }
   ],
   "source": [
    "print(\"Spring\\nSummmer\\nAutumn\\nWinter\")"
   ]
  },
  {
   "cell_type": "code",
   "execution_count": 25,
   "id": "27b02242",
   "metadata": {},
   "outputs": [
    {
     "name": "stdout",
     "output_type": "stream",
     "text": [
      "*\n",
      "***\n",
      "*****\n"
     ]
    }
   ],
   "source": [
    "print(\"*\")\n",
    "print(\"***\")\n",
    "print(\"*****\")"
   ]
  },
  {
   "cell_type": "code",
   "execution_count": null,
   "id": "2a2c8296",
   "metadata": {},
   "outputs": [
    {
     "name": "stdout",
     "output_type": "stream",
     "text": [
      "### # #  ### ###\n",
      " #  #  #  #   #\n",
      " #  #   # #   #\n",
      " #  #  #  #   #\n",
      " #  # #   #   #\n"
     ]
    }
   ],
   "source": [
    "print(\"### # #  ### ###\\n #  #  #  #   #\\n #  #   # #   #\\n #  #  #  #   #\\n #  # #   #   #\")"
   ]
  },
  {
   "cell_type": "code",
   "execution_count": 26,
   "id": "2b4445f3",
   "metadata": {},
   "outputs": [
    {
     "name": "stdout",
     "output_type": "stream",
     "text": [
      "Monday\n",
      "Tuesday\n",
      "Wednesday\n",
      "Thursday\n",
      "Friday\n",
      "Saturday\n",
      "Sunday\n"
     ]
    }
   ],
   "source": [
    "print(\"Monday\\nTuesday\\nWednesday\\nThursday\\nFriday\\nSaturday\\nSunday\")"
   ]
  },
  {
   "cell_type": "code",
   "execution_count": 27,
   "id": "4026789a",
   "metadata": {},
   "outputs": [
    {
     "name": "stdout",
     "output_type": "stream",
     "text": [
      "Januaery\n",
      "February\n",
      "March\n",
      "April\n",
      "May\n",
      "June\n",
      "July\n",
      "August\n",
      "September\n",
      "October\n",
      "November\n",
      "December\n"
     ]
    }
   ],
   "source": [
    "print(\"Januaery\\nFebruary\\nMarch\\nApril\\nMay\\nJune\\nJuly\\nAugust\\nSeptember\\nOctober\\nNovember\\nDecember\")"
   ]
  }
 ],
 "metadata": {
  "kernelspec": {
   "display_name": ".venv (3.13.7)",
   "language": "python",
   "name": "python3"
  },
  "language_info": {
   "codemirror_mode": {
    "name": "ipython",
    "version": 3
   },
   "file_extension": ".py",
   "mimetype": "text/x-python",
   "name": "python",
   "nbconvert_exporter": "python",
   "pygments_lexer": "ipython3",
   "version": "3.13.7"
  }
 },
 "nbformat": 4,
 "nbformat_minor": 5
}

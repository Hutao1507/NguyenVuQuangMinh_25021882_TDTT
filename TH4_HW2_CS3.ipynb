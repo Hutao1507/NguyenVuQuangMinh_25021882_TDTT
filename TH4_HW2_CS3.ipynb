{
 "cells": [
  {
   "cell_type": "code",
   "execution_count": 11,
   "id": "ea527dd0",
   "metadata": {},
   "outputs": [
    {
     "name": "stdout",
     "output_type": "stream",
     "text": [
      "Tổng các số nguyên từ 1 đến 4 là:  10\n"
     ]
    }
   ],
   "source": [
    "n=int(input(\"Nhập số nguyên n:\"))\n",
    "if n>=1 and n<=1000:\n",
    "    a=0\n",
    "    for i in range(1,n+1,1):\n",
    "        a=a+i\n",
    "    print(\"Tổng các số nguyên từ 1 đến\",n,\"là: \", a)\n",
    "else:\n",
    "    print(\"n không thoả mãn\")"
   ]
  },
  {
   "cell_type": "code",
   "execution_count": null,
   "id": "9e8108f0",
   "metadata": {},
   "outputs": [
    {
     "name": "stdout",
     "output_type": "stream",
     "text": [
      "10 không phải là số nguyên tố\n"
     ]
    }
   ],
   "source": [
    "while True:\n",
    "    try:\n",
    "        n=int(input(\"Nhập số n:\"))\n",
    "        if n>0:\n",
    "            break\n",
    "    except ValueError: \n",
    "        print(\"Nhập lại\")\n",
    "\n",
    "def nguyen(n):\n",
    "    for i in range(2, int((n**0.5)+1)):\n",
    "        if n%i==0:\n",
    "            return True\n",
    "        else:\n",
    "            return False\n",
    "\n",
    "if nguyen(n)==False:\n",
    "    print(n, \"là số nguyên tố\")\n",
    "else:\n",
    "    print(n, \"không phải là số nguyên tố\")"
   ]
  },
  {
   "cell_type": "code",
   "execution_count": null,
   "id": "192da616",
   "metadata": {},
   "outputs": [
    {
     "name": "stdout",
     "output_type": "stream",
     "text": [
      "Chỉ nhập số nguyên\n"
     ]
    }
   ],
   "source": [
    "try:\n",
    "    n=int(input(\"Nhập số tự nhiên n:\"))\n",
    "    s=0\n",
    "    for m in str(n):\n",
    "        try:\n",
    "            m=int(m)\n",
    "            s=s+1\n",
    "        except ValueError:\n",
    "            s=s\n",
    "    print(\"Số chữ số là:\", s)    \n",
    "except ValueError:\n",
    "    print(\"Chỉ nhập số nguyên\")\n",
    "\n"
   ]
  },
  {
   "cell_type": "code",
   "execution_count": null,
   "id": "ff87f81f",
   "metadata": {},
   "outputs": [],
   "source": [
    "n=(input(\"Nhập số nguyên n\"))\n",
    "g=1\n",
    "def so_nguyen(n):\n",
    "    try:\n",
    "        n=int(n)\n",
    "        return True\n",
    "    except ValueError:\n",
    "        return False\n",
    "    \n",
    "if so_nguyen(n)==True:\n",
    "    n=int(n)    \n",
    "    if n>0:\n",
    "        for i in range(1, n+1):\n",
    "            g=g*i\n",
    "            print(\"Giai thừa của\", n, \"là\", g)\n",
    "    else:\n",
    "        print(\"Nhập số dương\")\n",
    "else:\n",
    "    print(\"Nhập số nguyên\")"
   ]
  },
  {
   "cell_type": "code",
   "execution_count": 12,
   "id": "89200bdf",
   "metadata": {},
   "outputs": [
    {
     "name": "stdout",
     "output_type": "stream",
     "text": [
      "I've found the meaning of life!\n"
     ]
    }
   ],
   "source": [
    "n=int(input(\"Nhập số nguyên n:\"))\n",
    "tim=True\n",
    "for i in range(1,n+1):\n",
    "    b=int(input(\"nhập một số:\"))\n",
    "    if b==42:\n",
    "        print(\"I've found the meaning of life!\")\n",
    "        tim=False\n",
    "        break\n",
    "    \n",
    "if tim == True:\n",
    "    print(\"It's a joke!\")\n"
   ]
  },
  {
   "cell_type": "code",
   "execution_count": 17,
   "id": "25dea3b3",
   "metadata": {},
   "outputs": [
    {
     "name": "stdout",
     "output_type": "stream",
     "text": [
      "Nhập số nguyên\n"
     ]
    },
    {
     "ename": "NameError",
     "evalue": "name 'b' is not defined",
     "output_type": "error",
     "traceback": [
      "\u001b[31m---------------------------------------------------------------------------\u001b[39m",
      "\u001b[31mNameError\u001b[39m                                 Traceback (most recent call last)",
      "\u001b[36mCell\u001b[39m\u001b[36m \u001b[39m\u001b[32mIn[17]\u001b[39m\u001b[32m, line 26\u001b[39m\n\u001b[32m     23\u001b[39m     \u001b[38;5;28mprint\u001b[39m(\u001b[33m\"\u001b[39m\u001b[33mNhập số nguyên\u001b[39m\u001b[33m\"\u001b[39m)\n\u001b[32m     25\u001b[39m \u001b[38;5;28;01mif\u001b[39;00m tong==\u001b[32m0\u001b[39m:\n\u001b[32m---> \u001b[39m\u001b[32m26\u001b[39m     \u001b[38;5;28mprint\u001b[39m(\u001b[33m\"\u001b[39m\u001b[33mKhông có số nguyên tố trong khoảng\u001b[39m\u001b[33m\"\u001b[39m, a, \u001b[33m\"\u001b[39m\u001b[33mđến\u001b[39m\u001b[33m\"\u001b[39m, \u001b[43mb\u001b[49m)\n\u001b[32m     27\u001b[39m \u001b[38;5;28;01melse\u001b[39;00m:\n\u001b[32m     28\u001b[39m     \u001b[38;5;28mprint\u001b[39m(\u001b[33m\"\u001b[39m\u001b[33mTổng các số nguyên tố trong khoảng\u001b[39m\u001b[33m\"\u001b[39m, a,\u001b[33m\"\u001b[39m\u001b[33mđến\u001b[39m\u001b[33m\"\u001b[39m, b,\u001b[33m\"\u001b[39m\u001b[33mlà:\u001b[39m\u001b[33m\"\u001b[39m, tong)\n",
      "\u001b[31mNameError\u001b[39m: name 'b' is not defined"
     ]
    }
   ],
   "source": [
    "def nguyen_to(x):\n",
    "    for i in range(2,int((x**0.5)+1)):\n",
    "        if x<2:\n",
    "            return False    \n",
    "        if x%i==0:\n",
    "            return False\n",
    "        return True\n",
    "tong=0 \n",
    "try:\n",
    "    a,b=map(int,input(\"Nhập 2 só a, b với a nhỏ hơn b:\").split())\n",
    "    if a>0 and b>0:\n",
    "        if a<=b:\n",
    "            for i in range(a,b+1):\n",
    "                if nguyen_to(i):\n",
    "                    tong=tong+i\n",
    "                else: \n",
    "                    tong=tong\n",
    "        else:\n",
    "            print(\"a phải nhỏ hơn b\")\n",
    "    else:\n",
    "        print(\"Nhập số dương\")\n",
    "except ValueError:\n",
    "    print(\"Nhập số nguyên\")\n",
    "    \n",
    "if tong==0:\n",
    "    print(\"Không có số nguyên tố trong khoảng\", a, \"đến\", b)\n",
    "else:\n",
    "    print(\"Tổng các số nguyên tố trong khoảng\", a,\"đến\", b,\"là:\", tong)"
   ]
  },
  {
   "cell_type": "code",
   "execution_count": null,
   "id": "a40603b1",
   "metadata": {},
   "outputs": [
    {
     "name": "stdout",
     "output_type": "stream",
     "text": [
      "Ước nguyên tố lớn nhất của 2 là: 2\n"
     ]
    }
   ],
   "source": [
    "def nguyen_to(x):\n",
    "    if x<2:\n",
    "        return False\n",
    "    if x==2:\n",
    "        return True\n",
    "    if x%2==0:\n",
    "        return False\n",
    "    for i in range(3,int((x**0.5)+1),2):   \n",
    "        if x%i==0:\n",
    "            return False\n",
    "    return True\n",
    "\n",
    "try:\n",
    "    n=int(input(\"Nhập số nguyên n lớn hơn hoặc bằng 2:\"))\n",
    "    if n>=2:\n",
    "        for i in range(n,1,-1):\n",
    "            if n%i==0:\n",
    "                if nguyen_to(i):\n",
    "                    print(\"Ước nguyên tố lớn nhất của\", n, \"là:\", i)\n",
    "                    break\n",
    "    else:\n",
    "        print(\"Số phải lớn hơn hoặc bằng 2\")\n",
    "except ValueError:\n",
    "    print(\"Nhập số nguyên\")                \n",
    "                "
   ]
  }
 ],
 "metadata": {
  "kernelspec": {
   "display_name": "Python 3",
   "language": "python",
   "name": "python3"
  },
  "language_info": {
   "codemirror_mode": {
    "name": "ipython",
    "version": 3
   },
   "file_extension": ".py",
   "mimetype": "text/x-python",
   "name": "python",
   "nbconvert_exporter": "python",
   "pygments_lexer": "ipython3",
   "version": "3.14.0"
  }
 },
 "nbformat": 4,
 "nbformat_minor": 5
}

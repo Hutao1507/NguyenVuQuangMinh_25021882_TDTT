{
 "cells": [
  {
   "cell_type": "code",
   "execution_count": 11,
   "id": "ea527dd0",
   "metadata": {},
   "outputs": [
    {
     "name": "stdout",
     "output_type": "stream",
     "text": [
      "Tổng các số nguyên từ 1 đến 4 là:  10\n"
     ]
    }
   ],
   "source": [
    "n=int(input(\"Nhập số nguyên n:\"))\n",
    "if n>=1 and n<=1000:\n",
    "    a=0\n",
    "    for i in range(1,n+1,1):\n",
    "        a=a+i\n",
    "    print(\"Tổng các số nguyên từ 1 đến\",n,\"là: \", a)\n",
    "else:\n",
    "    print(\"n không thoả mãn\")"
   ]
  },
  {
   "cell_type": "code",
   "execution_count": null,
   "id": "9e8108f0",
   "metadata": {},
   "outputs": [
    {
     "name": "stdout",
     "output_type": "stream",
     "text": [
      "10 không phải là số nguyên tố\n"
     ]
    }
   ],
   "source": [
    "while True:\n",
    "    try:\n",
    "        n=int(input(\"Nhập số n:\"))\n",
    "        if n>0:\n",
    "            break\n",
    "    except ValueError: \n",
    "        print(\"Nhập lại\")\n",
    "\n",
    "def nguyen(n):\n",
    "    for i in range(2, int((n**0.5)+1)):\n",
    "        if n%i==0:\n",
    "            return True\n",
    "        else:\n",
    "            return False\n",
    "\n",
    "if nguyen(n)==False:\n",
    "    print(n, \"là số nguyên tố\")\n",
    "else:\n",
    "    print(n, \"không phải là số nguyên tố\")"
   ]
  },
  {
   "cell_type": "code",
   "execution_count": null,
   "id": "192da616",
   "metadata": {},
   "outputs": [
    {
     "name": "stdout",
     "output_type": "stream",
     "text": [
      "Chỉ nhập số nguyên\n"
     ]
    }
   ],
   "source": [
    "try:\n",
    "    n=int(input(\"Nhập số tự nhiên n:\"))\n",
    "    s=0\n",
    "    for m in str(n):\n",
    "        try:\n",
    "            m=int(m)\n",
    "            s=s+1\n",
    "        except ValueError:\n",
    "            s=s\n",
    "    print(\"Số chữ số là:\", s)    \n",
    "except ValueError:\n",
    "    print(\"Chỉ nhập số nguyên\")\n",
    "\n"
   ]
  },
  {
   "cell_type": "code",
   "execution_count": null,
   "id": "ff87f81f",
   "metadata": {},
   "outputs": [],
   "source": [
    "n=(input(\"Nhập số nguyên n\"))\n",
    "g=1\n",
    "def so_nguyen(n):\n",
    "    try:\n",
    "        n=int(n)\n",
    "        return True\n",
    "    except ValueError:\n",
    "        return False\n",
    "    \n",
    "if so_nguyen(n)==True:\n",
    "    n=int(n)    \n",
    "    if n>0:\n",
    "        for i in range(1, n+1):\n",
    "            g=g*i\n",
    "            print(\"Giai thừa của\", n, \"là\", g)\n",
    "    else:\n",
    "        print(\"Nhập số dương\")\n",
    "else:\n",
    "    print(\"Nhập số nguyên\")"
   ]
  }
 ],
 "metadata": {
  "kernelspec": {
   "display_name": ".venv (3.13.7)",
   "language": "python",
   "name": "python3"
  },
  "language_info": {
   "codemirror_mode": {
    "name": "ipython",
    "version": 3
   },
   "file_extension": ".py",
   "mimetype": "text/x-python",
   "name": "python",
   "nbconvert_exporter": "python",
   "pygments_lexer": "ipython3",
   "version": "3.13.7"
  }
 },
 "nbformat": 4,
 "nbformat_minor": 5
}
